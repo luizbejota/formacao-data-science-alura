{
  "nbformat": 4,
  "nbformat_minor": 0,
  "metadata": {
    "colab": {
      "name": "Formação Data Science Alura - Luiz Fernando Ferreira",
      "version": "0.3.2",
      "provenance": [],
      "collapsed_sections": [
        "RHe6mSVQKTQx",
        "eBt10OE7KTQ-",
        "eFXtFiZPKTQ_",
        "6pFBgx2mKTRQ",
        "qnSbomJpKTRb",
        "LN0ZeXjuKTRs",
        "s77M2nzoKTR3",
        "Nl0RPVhxKTR_",
        "rMtDVAWUKTSD",
        "gEe84IdNKTSN",
        "DmOU_uO7KTSY",
        "LdtdHyqgKTSj",
        "f5ezsoUCKTSm",
        "R2pLC2WeKTSo",
        "Y6gUQoEuKTSw",
        "e9AyX7S1KTS0",
        "UA7UFvxGKTS1",
        "DXfS00SCKTS2",
        "ZR_P4PSJKTTN",
        "izwhie36KTTS",
        "HixEkm4LKTTi",
        "w_LLjWVuKTTk",
        "sU0dKII9KTTn",
        "ZadbawpeKTT9",
        "21MRDBySKTT9",
        "ZuhB9_9pKTT-",
        "xs-2USRDKTT_",
        "Xhd86LtVKTUA",
        "IeBM8Q8JKTUN",
        "39B4A4U7KTUW",
        "6V1LAAKWKTUb",
        "eB-ofx13KTUg",
        "joWgnOgEKTUk",
        "cdpG8qqlKTUk",
        "I8Cl0BsaKTUp",
        "UXyIJnTrKTUt",
        "IXgD5yVSKTUu",
        "SZsYwjfUKTUw"
      ],
      "toc_visible": true,
      "include_colab_link": true
    },
    "language_info": {
      "codemirror_mode": {
        "name": "ipython",
        "version": 3
      },
      "file_extension": ".py",
      "mimetype": "text/x-python",
      "name": "python",
      "nbconvert_exporter": "python",
      "pygments_lexer": "ipython3",
      "version": "3.6.5"
    },
    "kernelspec": {
      "display_name": "Python 3",
      "language": "python",
      "name": "python3"
    }
  },
  "cells": [
    {
      "cell_type": "markdown",
      "metadata": {
        "id": "view-in-github",
        "colab_type": "text"
      },
      "source": [
        "<a href=\"https://colab.research.google.com/github/luizbejota/formacao-data-science-alura/blob/master/Formac%CC%A7a%CC%83o_Data_Science_Alura_Luiz_Fernando_Ferreira.ipynb\" target=\"_parent\"><img src=\"https://colab.research.google.com/assets/colab-badge.svg\" alt=\"Open In Colab\"/></a>"
      ]
    },
    {
      "metadata": {
        "id": "A5Jk1TrGKTP4",
        "colab_type": "text"
      },
      "cell_type": "markdown",
      "source": [
        "## Pergunta: Coloque um cabeçalho nesse notebook com o seu nome e resumindo o que descobriu ao explorar esses dados"
      ]
    },
    {
      "metadata": {
        "id": "zJMfecZgL8it",
        "colab_type": "text"
      },
      "cell_type": "markdown",
      "source": [
        "#  **Projeto da Formação Data Science de Luiz Fernando Ferreira**\n",
        "Minha descobertas até agora são"
      ]
    },
    {
      "metadata": {
        "id": "etdAwIkGKTP6",
        "colab_type": "text"
      },
      "cell_type": "markdown",
      "source": [
        "## Formação Data Science Alura - Análise exploratória do MovieLens\n",
        "\n",
        "Na formação de Data Scienda www.alura.com.br um dos conjuntos de dados que utilizamos é o de avaliações para filmes no site MovieLens. Neste projeto faremos uma análise exploratória desses dados."
      ]
    },
    {
      "metadata": {
        "id": "d1pGKqVhKTP8",
        "colab_type": "text"
      },
      "cell_type": "markdown",
      "source": [
        "### Dicas para o projeto completo:\n",
        "\n",
        "- todo gráfico deve ter um título, labels e legendas que fazem sentido\n",
        "- configure um tamanho adequado para os gráficos\n",
        "- utilize as versões dos arquivos de dados disponíveis no github"
      ]
    },
    {
      "metadata": {
        "id": "5ejbjpj6KTP9",
        "colab_type": "text"
      },
      "cell_type": "markdown",
      "source": [
        "## Pergunta: conferindo as versões utilizadas\n",
        "\n",
        "- Devemos usar pandas 0.24.0 ou mais recente\n",
        "- Devemos usar seaborn 0.9.0 ou mais recente\n",
        "- Devemos usar scipy 1.2.0 ou mais recente"
      ]
    },
    {
      "metadata": {
        "id": "fAypM8vkKTP-",
        "colab_type": "code",
        "colab": {}
      },
      "cell_type": "code",
      "source": [
        "!pip install pandas==\"0.24.0\" --quiet\n",
        "!pip install seaborn==\"0.9.0\" --quiet\n",
        "!pip install scipy==\"1.2.0\" --quiet"
      ],
      "execution_count": 0,
      "outputs": []
    },
    {
      "metadata": {
        "id": "vE30vFu9KTQE",
        "colab_type": "code",
        "colab": {
          "base_uri": "https://localhost:8080/",
          "height": 71
        },
        "outputId": "acb9c536-e619-4b17-ab98-0a64ac20ee68"
      },
      "cell_type": "code",
      "source": [
        "import pandas as pd\n",
        "import seaborn as sns\n",
        "import scipy\n",
        "\n",
        "print(\"Usando pandas %s\" % pd.__version__)\n",
        "print(\"Usando seaborn %s\" % sns.__version__)\n",
        "print(\"Usando scipy %s\" % scipy.__version__)"
      ],
      "execution_count": 37,
      "outputs": [
        {
          "output_type": "stream",
          "text": [
            "Usando pandas 0.24.2\n",
            "Usando seaborn 0.9.0\n",
            "Usando scipy 1.2.0\n"
          ],
          "name": "stdout"
        }
      ]
    },
    {
      "metadata": {
        "id": "u0kF2aKhKTQJ",
        "colab_type": "text"
      },
      "cell_type": "markdown",
      "source": [
        "## Pergunta: carregue os filmes\n",
        "\n",
        "- os dados `https://raw.githubusercontent.com/alura-cursos/formacao-data-science/master/movies.csv` devem ser carregado em `filmes`\n",
        "- renomeie as colunas para `filmeId`, `titulo` e `generos`\n",
        "- configure o indice (`index`) para ser o `filmeId`"
      ]
    },
    {
      "metadata": {
        "id": "YlM9aY6hKTQK",
        "colab_type": "code",
        "colab": {
          "base_uri": "https://localhost:8080/",
          "height": 2339
        },
        "outputId": "8222667f-c846-429f-eeb4-8bdc470f56a6"
      },
      "cell_type": "code",
      "source": [
        "filmes = pd.read_csv('movies.csv', header=0, index_col=0, names=['filmeId', 'titulo', 'generos'])"
      ],
      "execution_count": 64,
      "outputs": [
        {
          "output_type": "stream",
          "text": [
            "                                                    titulo  \\\n",
            "filmeId                                                      \n",
            "1                                         Toy Story (1995)   \n",
            "2                                           Jumanji (1995)   \n",
            "3                                  Grumpier Old Men (1995)   \n",
            "4                                 Waiting to Exhale (1995)   \n",
            "5                       Father of the Bride Part II (1995)   \n",
            "6                                              Heat (1995)   \n",
            "7                                           Sabrina (1995)   \n",
            "8                                      Tom and Huck (1995)   \n",
            "9                                      Sudden Death (1995)   \n",
            "10                                        GoldenEye (1995)   \n",
            "11                          American President, The (1995)   \n",
            "12                      Dracula: Dead and Loving It (1995)   \n",
            "13                                            Balto (1995)   \n",
            "14                                            Nixon (1995)   \n",
            "15                                 Cutthroat Island (1995)   \n",
            "16                                           Casino (1995)   \n",
            "17                            Sense and Sensibility (1995)   \n",
            "18                                       Four Rooms (1995)   \n",
            "19                   Ace Ventura: When Nature Calls (1995)   \n",
            "20                                      Money Train (1995)   \n",
            "21                                       Get Shorty (1995)   \n",
            "22                                          Copycat (1995)   \n",
            "23                                        Assassins (1995)   \n",
            "24                                           Powder (1995)   \n",
            "25                                Leaving Las Vegas (1995)   \n",
            "26                                          Othello (1995)   \n",
            "27                                     Now and Then (1995)   \n",
            "28                                       Persuasion (1995)   \n",
            "29       City of Lost Children, The (Cité des enfants p...   \n",
            "30       Shanghai Triad (Yao a yao yao dao waipo qiao) ...   \n",
            "...                                                    ...   \n",
            "188189                          Sorry to Bother You (2018)   \n",
            "188301                         Ant-Man and the Wasp (2018)   \n",
            "188675                                       Dogman (2018)   \n",
            "188751                 Mamma Mia: Here We Go Again! (2018)   \n",
            "188797                                          Tag (2018)   \n",
            "188833               The Man Who Killed Don Quixote (2018)   \n",
            "189043                                   Boundaries (2018)   \n",
            "189111                                       Spiral (2018)   \n",
            "189333                Mission: Impossible - Fallout (2018)   \n",
            "189381                                     SuperFly (2018)   \n",
            "189547                                 Iron Soldier (2010)   \n",
            "189713                               BlacKkKlansman (2018)   \n",
            "190183                            The Darkest Minds (2018)   \n",
            "190207                                         Tilt (2011)   \n",
            "190209                  Jeff Ross Roasts the Border (2017)   \n",
            "190213                                    John From (2015)   \n",
            "190215                                 Liquid Truth (2017)   \n",
            "190219                                        Bunny (1998)   \n",
            "190221   Hommage à Zgougou (et salut à Sabine Mamou) (2...   \n",
            "191005                                      Gintama (2017)   \n",
            "193565                           Gintama: The Movie (2010)   \n",
            "193567   anohana: The Flower We Saw That Day - The Movi...   \n",
            "193571                                 Silver Spoon (2014)   \n",
            "193573             Love Live! The School Idol Movie (2015)   \n",
            "193579            Jon Stewart Has Left the Building (2015)   \n",
            "193581           Black Butler: Book of the Atlantic (2017)   \n",
            "193583                        No Game No Life: Zero (2017)   \n",
            "193585                                        Flint (2017)   \n",
            "193587                 Bungo Stray Dogs: Dead Apple (2018)   \n",
            "193609                 Andrew Dice Clay: Dice Rules (1991)   \n",
            "\n",
            "                                             generos  \n",
            "filmeId                                               \n",
            "1        Adventure|Animation|Children|Comedy|Fantasy  \n",
            "2                         Adventure|Children|Fantasy  \n",
            "3                                     Comedy|Romance  \n",
            "4                               Comedy|Drama|Romance  \n",
            "5                                             Comedy  \n",
            "6                              Action|Crime|Thriller  \n",
            "7                                     Comedy|Romance  \n",
            "8                                 Adventure|Children  \n",
            "9                                             Action  \n",
            "10                         Action|Adventure|Thriller  \n",
            "11                              Comedy|Drama|Romance  \n",
            "12                                     Comedy|Horror  \n",
            "13                      Adventure|Animation|Children  \n",
            "14                                             Drama  \n",
            "15                          Action|Adventure|Romance  \n",
            "16                                       Crime|Drama  \n",
            "17                                     Drama|Romance  \n",
            "18                                            Comedy  \n",
            "19                                            Comedy  \n",
            "20                Action|Comedy|Crime|Drama|Thriller  \n",
            "21                             Comedy|Crime|Thriller  \n",
            "22               Crime|Drama|Horror|Mystery|Thriller  \n",
            "23                             Action|Crime|Thriller  \n",
            "24                                      Drama|Sci-Fi  \n",
            "25                                     Drama|Romance  \n",
            "26                                             Drama  \n",
            "27                                    Children|Drama  \n",
            "28                                     Drama|Romance  \n",
            "29            Adventure|Drama|Fantasy|Mystery|Sci-Fi  \n",
            "30                                       Crime|Drama  \n",
            "...                                              ...  \n",
            "188189                         Comedy|Fantasy|Sci-Fi  \n",
            "188301        Action|Adventure|Comedy|Fantasy|Sci-Fi  \n",
            "188675                                   Crime|Drama  \n",
            "188751                                Comedy|Romance  \n",
            "188797                                        Comedy  \n",
            "188833                      Adventure|Comedy|Fantasy  \n",
            "189043                                  Comedy|Drama  \n",
            "189111                                   Documentary  \n",
            "189333                     Action|Adventure|Thriller  \n",
            "189381                         Action|Crime|Thriller  \n",
            "189547                                 Action|Sci-Fi  \n",
            "189713                            Comedy|Crime|Drama  \n",
            "190183                               Sci-Fi|Thriller  \n",
            "190207                                 Drama|Romance  \n",
            "190209                                        Comedy  \n",
            "190213                                         Drama  \n",
            "190215                                         Drama  \n",
            "190219                                     Animation  \n",
            "190221                                   Documentary  \n",
            "191005                Action|Adventure|Comedy|Sci-Fi  \n",
            "193565                Action|Animation|Comedy|Sci-Fi  \n",
            "193567                               Animation|Drama  \n",
            "193571                                  Comedy|Drama  \n",
            "193573                                     Animation  \n",
            "193579                                   Documentary  \n",
            "193581               Action|Animation|Comedy|Fantasy  \n",
            "193583                      Animation|Comedy|Fantasy  \n",
            "193585                                         Drama  \n",
            "193587                              Action|Animation  \n",
            "193609                                        Comedy  \n",
            "\n",
            "[9742 rows x 2 columns]\n"
          ],
          "name": "stdout"
        }
      ]
    },
    {
      "metadata": {
        "id": "GOJLoSrIKTQO",
        "colab_type": "code",
        "colab": {
          "base_uri": "https://localhost:8080/",
          "height": 235
        },
        "outputId": "cfb8e4f9-1de9-4693-c3ea-e8f92b71f411"
      },
      "cell_type": "code",
      "source": [
        "filmes.head()"
      ],
      "execution_count": 65,
      "outputs": [
        {
          "output_type": "execute_result",
          "data": {
            "text/html": [
              "<div>\n",
              "<style scoped>\n",
              "    .dataframe tbody tr th:only-of-type {\n",
              "        vertical-align: middle;\n",
              "    }\n",
              "\n",
              "    .dataframe tbody tr th {\n",
              "        vertical-align: top;\n",
              "    }\n",
              "\n",
              "    .dataframe thead th {\n",
              "        text-align: right;\n",
              "    }\n",
              "</style>\n",
              "<table border=\"1\" class=\"dataframe\">\n",
              "  <thead>\n",
              "    <tr style=\"text-align: right;\">\n",
              "      <th></th>\n",
              "      <th>titulo</th>\n",
              "      <th>generos</th>\n",
              "    </tr>\n",
              "    <tr>\n",
              "      <th>filmeId</th>\n",
              "      <th></th>\n",
              "      <th></th>\n",
              "    </tr>\n",
              "  </thead>\n",
              "  <tbody>\n",
              "    <tr>\n",
              "      <th>1</th>\n",
              "      <td>Toy Story (1995)</td>\n",
              "      <td>Adventure|Animation|Children|Comedy|Fantasy</td>\n",
              "    </tr>\n",
              "    <tr>\n",
              "      <th>2</th>\n",
              "      <td>Jumanji (1995)</td>\n",
              "      <td>Adventure|Children|Fantasy</td>\n",
              "    </tr>\n",
              "    <tr>\n",
              "      <th>3</th>\n",
              "      <td>Grumpier Old Men (1995)</td>\n",
              "      <td>Comedy|Romance</td>\n",
              "    </tr>\n",
              "    <tr>\n",
              "      <th>4</th>\n",
              "      <td>Waiting to Exhale (1995)</td>\n",
              "      <td>Comedy|Drama|Romance</td>\n",
              "    </tr>\n",
              "    <tr>\n",
              "      <th>5</th>\n",
              "      <td>Father of the Bride Part II (1995)</td>\n",
              "      <td>Comedy</td>\n",
              "    </tr>\n",
              "  </tbody>\n",
              "</table>\n",
              "</div>"
            ],
            "text/plain": [
              "                                     titulo  \\\n",
              "filmeId                                       \n",
              "1                          Toy Story (1995)   \n",
              "2                            Jumanji (1995)   \n",
              "3                   Grumpier Old Men (1995)   \n",
              "4                  Waiting to Exhale (1995)   \n",
              "5        Father of the Bride Part II (1995)   \n",
              "\n",
              "                                             generos  \n",
              "filmeId                                               \n",
              "1        Adventure|Animation|Children|Comedy|Fantasy  \n",
              "2                         Adventure|Children|Fantasy  \n",
              "3                                     Comedy|Romance  \n",
              "4                               Comedy|Drama|Romance  \n",
              "5                                             Comedy  "
            ]
          },
          "metadata": {
            "tags": []
          },
          "execution_count": 65
        }
      ]
    },
    {
      "metadata": {
        "scrolled": true,
        "id": "WWAwEydkKTQT",
        "colab_type": "code",
        "colab": {
          "base_uri": "https://localhost:8080/",
          "height": 35
        },
        "outputId": "569a60e1-636b-4b57-e46c-25de20366d26"
      },
      "cell_type": "code",
      "source": [
        "print(\"Carregamos %d filmes\" % len(filmes))\n",
        "if(len(filmes) != 9742):\n",
        "    print(\"ERRO! O conjunto de dados que estamos trabalhando nesse projeto possui 9742 elementos.\")"
      ],
      "execution_count": 66,
      "outputs": [
        {
          "output_type": "stream",
          "text": [
            "Carregamos 9742 filmes\n"
          ],
          "name": "stdout"
        }
      ]
    },
    {
      "metadata": {
        "id": "fGAzRrqxKTQX",
        "colab_type": "text"
      },
      "cell_type": "markdown",
      "source": [
        "Vamos extrair o ano dos filmes (código já pronto): "
      ]
    },
    {
      "metadata": {
        "id": "WkdxGSjtKTQZ",
        "colab_type": "code",
        "colab": {
          "base_uri": "https://localhost:8080/",
          "height": 235
        },
        "outputId": "099c809f-c40e-453f-b47a-70974583662d"
      },
      "cell_type": "code",
      "source": [
        "ano_de_lancamento = filmes.titulo.str.extract(\"\\((\\d{4})\\)\")\n",
        "filmes['ano_de_lancamento'] = ano_de_lancamento.astype(float)\n",
        "filmes.head()"
      ],
      "execution_count": 67,
      "outputs": [
        {
          "output_type": "execute_result",
          "data": {
            "text/html": [
              "<div>\n",
              "<style scoped>\n",
              "    .dataframe tbody tr th:only-of-type {\n",
              "        vertical-align: middle;\n",
              "    }\n",
              "\n",
              "    .dataframe tbody tr th {\n",
              "        vertical-align: top;\n",
              "    }\n",
              "\n",
              "    .dataframe thead th {\n",
              "        text-align: right;\n",
              "    }\n",
              "</style>\n",
              "<table border=\"1\" class=\"dataframe\">\n",
              "  <thead>\n",
              "    <tr style=\"text-align: right;\">\n",
              "      <th></th>\n",
              "      <th>titulo</th>\n",
              "      <th>generos</th>\n",
              "      <th>ano_de_lancamento</th>\n",
              "    </tr>\n",
              "    <tr>\n",
              "      <th>filmeId</th>\n",
              "      <th></th>\n",
              "      <th></th>\n",
              "      <th></th>\n",
              "    </tr>\n",
              "  </thead>\n",
              "  <tbody>\n",
              "    <tr>\n",
              "      <th>1</th>\n",
              "      <td>Toy Story (1995)</td>\n",
              "      <td>Adventure|Animation|Children|Comedy|Fantasy</td>\n",
              "      <td>1995.0</td>\n",
              "    </tr>\n",
              "    <tr>\n",
              "      <th>2</th>\n",
              "      <td>Jumanji (1995)</td>\n",
              "      <td>Adventure|Children|Fantasy</td>\n",
              "      <td>1995.0</td>\n",
              "    </tr>\n",
              "    <tr>\n",
              "      <th>3</th>\n",
              "      <td>Grumpier Old Men (1995)</td>\n",
              "      <td>Comedy|Romance</td>\n",
              "      <td>1995.0</td>\n",
              "    </tr>\n",
              "    <tr>\n",
              "      <th>4</th>\n",
              "      <td>Waiting to Exhale (1995)</td>\n",
              "      <td>Comedy|Drama|Romance</td>\n",
              "      <td>1995.0</td>\n",
              "    </tr>\n",
              "    <tr>\n",
              "      <th>5</th>\n",
              "      <td>Father of the Bride Part II (1995)</td>\n",
              "      <td>Comedy</td>\n",
              "      <td>1995.0</td>\n",
              "    </tr>\n",
              "  </tbody>\n",
              "</table>\n",
              "</div>"
            ],
            "text/plain": [
              "                                     titulo  \\\n",
              "filmeId                                       \n",
              "1                          Toy Story (1995)   \n",
              "2                            Jumanji (1995)   \n",
              "3                   Grumpier Old Men (1995)   \n",
              "4                  Waiting to Exhale (1995)   \n",
              "5        Father of the Bride Part II (1995)   \n",
              "\n",
              "                                             generos  ano_de_lancamento  \n",
              "filmeId                                                                  \n",
              "1        Adventure|Animation|Children|Comedy|Fantasy             1995.0  \n",
              "2                         Adventure|Children|Fantasy             1995.0  \n",
              "3                                     Comedy|Romance             1995.0  \n",
              "4                               Comedy|Drama|Romance             1995.0  \n",
              "5                                             Comedy             1995.0  "
            ]
          },
          "metadata": {
            "tags": []
          },
          "execution_count": 67
        }
      ]
    },
    {
      "metadata": {
        "id": "YDt-He7qKTQh",
        "colab_type": "text"
      },
      "cell_type": "markdown",
      "source": [
        "## Pergunta: carregando as notas\n",
        "\n",
        "- os dados `https://raw.githubusercontent.com/alura-cursos/formacao-data-science/master/ratings.csv` devem ser carregado em `notas`\n",
        "- renomeie as colunas para `usuarioId`, `filmeId`, `nota` e `momento`"
      ]
    },
    {
      "metadata": {
        "id": "KPzFtrRaKTQi",
        "colab_type": "code",
        "colab": {}
      },
      "cell_type": "code",
      "source": [
        "notas = pd.read_csv('ratings.csv', names=['usuarioId','filmeId','nota','momento'])"
      ],
      "execution_count": 0,
      "outputs": []
    },
    {
      "metadata": {
        "id": "SW5CLvY7KTQp",
        "colab_type": "code",
        "colab": {
          "base_uri": "https://localhost:8080/",
          "height": 204
        },
        "outputId": "01a62ca0-b95c-456f-fe6c-4c9ff6a64b8b"
      },
      "cell_type": "code",
      "source": [
        "notas.head()"
      ],
      "execution_count": 69,
      "outputs": [
        {
          "output_type": "execute_result",
          "data": {
            "text/html": [
              "<div>\n",
              "<style scoped>\n",
              "    .dataframe tbody tr th:only-of-type {\n",
              "        vertical-align: middle;\n",
              "    }\n",
              "\n",
              "    .dataframe tbody tr th {\n",
              "        vertical-align: top;\n",
              "    }\n",
              "\n",
              "    .dataframe thead th {\n",
              "        text-align: right;\n",
              "    }\n",
              "</style>\n",
              "<table border=\"1\" class=\"dataframe\">\n",
              "  <thead>\n",
              "    <tr style=\"text-align: right;\">\n",
              "      <th></th>\n",
              "      <th>usuarioId</th>\n",
              "      <th>filmeId</th>\n",
              "      <th>nota</th>\n",
              "      <th>momento</th>\n",
              "    </tr>\n",
              "  </thead>\n",
              "  <tbody>\n",
              "    <tr>\n",
              "      <th>0</th>\n",
              "      <td>userId</td>\n",
              "      <td>movieId</td>\n",
              "      <td>rating</td>\n",
              "      <td>timestamp</td>\n",
              "    </tr>\n",
              "    <tr>\n",
              "      <th>1</th>\n",
              "      <td>1</td>\n",
              "      <td>1</td>\n",
              "      <td>4.0</td>\n",
              "      <td>964982703</td>\n",
              "    </tr>\n",
              "    <tr>\n",
              "      <th>2</th>\n",
              "      <td>1</td>\n",
              "      <td>3</td>\n",
              "      <td>4.0</td>\n",
              "      <td>964981247</td>\n",
              "    </tr>\n",
              "    <tr>\n",
              "      <th>3</th>\n",
              "      <td>1</td>\n",
              "      <td>6</td>\n",
              "      <td>4.0</td>\n",
              "      <td>964982224</td>\n",
              "    </tr>\n",
              "    <tr>\n",
              "      <th>4</th>\n",
              "      <td>1</td>\n",
              "      <td>47</td>\n",
              "      <td>5.0</td>\n",
              "      <td>964983815</td>\n",
              "    </tr>\n",
              "  </tbody>\n",
              "</table>\n",
              "</div>"
            ],
            "text/plain": [
              "  usuarioId  filmeId    nota    momento\n",
              "0    userId  movieId  rating  timestamp\n",
              "1         1        1     4.0  964982703\n",
              "2         1        3     4.0  964981247\n",
              "3         1        6     4.0  964982224\n",
              "4         1       47     5.0  964983815"
            ]
          },
          "metadata": {
            "tags": []
          },
          "execution_count": 69
        }
      ]
    },
    {
      "metadata": {
        "id": "RHe6mSVQKTQx",
        "colab_type": "text"
      },
      "cell_type": "markdown",
      "source": [
        "## Pergunta: gere uma nova feature, a média dos votos por filme\n",
        "\n",
        "- crie uma nova coluna chamada `nota_media` dentro do dataframe `filmes`\n",
        "\n",
        "Dicas:\n",
        "- como filmeId já é o indice de seu dataframe filmes, se você possui uma série com o número de votos por filme, basta atribuir uma nova coluna normalmente que será usado o mesmo índice"
      ]
    },
    {
      "metadata": {
        "id": "fADqj7EVKTQz",
        "colab_type": "code",
        "colab": {}
      },
      "cell_type": "code",
      "source": [
        "# solução\n"
      ],
      "execution_count": 0,
      "outputs": []
    },
    {
      "metadata": {
        "id": "3FyolKF_KTQ6",
        "colab_type": "code",
        "colab": {}
      },
      "cell_type": "code",
      "source": [
        "filmes.head()"
      ],
      "execution_count": 0,
      "outputs": []
    },
    {
      "metadata": {
        "id": "eBt10OE7KTQ-",
        "colab_type": "text"
      },
      "cell_type": "markdown",
      "source": [
        "## Pergunta: remova os filmes com menos de 50 avaliações\n",
        "\n",
        "- conte o número de notas por filme\n",
        "- adicione uma coluna nova chamada `total_de_votos` a `filmes` que representa o número de avaliações que aquele filme teve no conjunto de dados\n",
        "- remova os que tem 49 ou menos de `filmes`"
      ]
    },
    {
      "metadata": {
        "id": "eFXtFiZPKTQ_",
        "colab_type": "text"
      },
      "cell_type": "markdown",
      "source": [
        "## Solução"
      ]
    },
    {
      "metadata": {
        "id": "bT00QULoKTRB",
        "colab_type": "code",
        "colab": {}
      },
      "cell_type": "code",
      "source": [
        "# solução para calcular o total de votos por filme\n",
        "\n"
      ],
      "execution_count": 0,
      "outputs": []
    },
    {
      "metadata": {
        "id": "17KytzlKKTRF",
        "colab_type": "code",
        "colab": {}
      },
      "cell_type": "code",
      "source": [
        "# solução para criar a nova coluna e filtrar os filmes\n"
      ],
      "execution_count": 0,
      "outputs": []
    },
    {
      "metadata": {
        "id": "ulVE1MuQKTRJ",
        "colab_type": "code",
        "colab": {}
      },
      "cell_type": "code",
      "source": [
        "filmes.head()"
      ],
      "execution_count": 0,
      "outputs": []
    },
    {
      "metadata": {
        "id": "MuDiDh-OKTRM",
        "colab_type": "text"
      },
      "cell_type": "markdown",
      "source": [
        "# Visualizando os dados gerais"
      ]
    },
    {
      "metadata": {
        "id": "6pFBgx2mKTRQ",
        "colab_type": "text"
      },
      "cell_type": "markdown",
      "source": [
        "## Pergunta: Visualize as notas médias\n",
        "\n",
        "- histograma\n",
        "- cummulative distribution function\n",
        "\n",
        "Dicas:\n",
        "\n",
        "- lembre-se de colocar um título nas imagens além de nomes nos eixos x e y\n",
        "- para gerar a versão cumulativa lembre-se de usar os parâmetros `hist_kws` e `kde_kws` para definir `'cumulative'=True`"
      ]
    },
    {
      "metadata": {
        "id": "FNgn7sOIKTRS",
        "colab_type": "code",
        "colab": {}
      },
      "cell_type": "code",
      "source": [
        "# solução histograma\n"
      ],
      "execution_count": 0,
      "outputs": []
    },
    {
      "metadata": {
        "id": "ljE1IyL-KTRW",
        "colab_type": "code",
        "colab": {}
      },
      "cell_type": "code",
      "source": [
        "# solução cumulativa\n"
      ],
      "execution_count": 0,
      "outputs": []
    },
    {
      "metadata": {
        "id": "qnSbomJpKTRb",
        "colab_type": "text"
      },
      "cell_type": "markdown",
      "source": [
        "## Pergunta: Visualize o total de votos\n",
        "\n",
        "- histograma\n",
        "- cummulative distribution function"
      ]
    },
    {
      "metadata": {
        "id": "1cDIx4MPKTRh",
        "colab_type": "code",
        "colab": {}
      },
      "cell_type": "code",
      "source": [
        "# solução histograma\n"
      ],
      "execution_count": 0,
      "outputs": []
    },
    {
      "metadata": {
        "id": "H0dFq5dTKTRm",
        "colab_type": "code",
        "colab": {}
      },
      "cell_type": "code",
      "source": [
        "# solução cumulativa\n"
      ],
      "execution_count": 0,
      "outputs": []
    },
    {
      "metadata": {
        "id": "LN0ZeXjuKTRs",
        "colab_type": "text"
      },
      "cell_type": "markdown",
      "source": [
        "## Pergunta: 20% dos filmes do dataframe tem nota maior que? \n",
        "\n",
        "- lembre-se da função `quantile` do pandas"
      ]
    },
    {
      "metadata": {
        "id": "S_O5KMBiKTRu",
        "colab_type": "code",
        "colab": {}
      },
      "cell_type": "code",
      "source": [
        "# solução\n"
      ],
      "execution_count": 0,
      "outputs": []
    },
    {
      "metadata": {
        "id": "Gd9dSt44KTRy",
        "colab_type": "code",
        "colab": {}
      },
      "cell_type": "code",
      "source": [
        "print(\"20 porcento dos filmes tem nota maior que de %.2f\" % nota_limite_dos_20_porcento)"
      ],
      "execution_count": 0,
      "outputs": []
    },
    {
      "metadata": {
        "id": "s77M2nzoKTR3",
        "colab_type": "text"
      },
      "cell_type": "markdown",
      "source": [
        "## Vamos separar a coluna `generos` em diversas colunas.\n",
        "\n",
        "- O código já está pronto."
      ]
    },
    {
      "metadata": {
        "id": "-Hm7gIr7KTR4",
        "colab_type": "code",
        "colab": {}
      },
      "cell_type": "code",
      "source": [
        "filmes['generos'] = filmes['generos'].str.replace('-', '')\n",
        "generos = filmes['generos'].str.get_dummies()\n",
        "print(\"Temos %d generos distintos\" % generos.shape[1])"
      ],
      "execution_count": 0,
      "outputs": []
    },
    {
      "metadata": {
        "id": "M-6s-YFMKTR7",
        "colab_type": "code",
        "colab": {}
      },
      "cell_type": "code",
      "source": [
        "filmes = filmes.join(generos).drop(columns=['generos'], axis=1)\n",
        "filmes.head()"
      ],
      "execution_count": 0,
      "outputs": []
    },
    {
      "metadata": {
        "id": "Nl0RPVhxKTR_",
        "colab_type": "text"
      },
      "cell_type": "markdown",
      "source": [
        "## Pergunta: visualização de quantos filmes existem por genero\n",
        "\n",
        "- Para cada um dos generos você deve agrupar o número de filmes\n",
        "- Ordene as barras, na esquerda o genero com mais filmes, na direita o que tem menos filmes\n",
        "\n",
        "Dica:\n",
        "\n",
        "- Para fazer a soma de uma ou mais colunas individualmente você pode usar `seu_dataframe.sum()`\n",
        "- Não precisa usar o dataframe `filmes`, somente o dataframe `generos`\n",
        "- Em certas situações é mais fácil usar as funções de plotagem do pandas ao invés do seaborn"
      ]
    },
    {
      "metadata": {
        "id": "eZiIAKj7KTSA",
        "colab_type": "code",
        "colab": {}
      },
      "cell_type": "code",
      "source": [
        "# solução\n"
      ],
      "execution_count": 0,
      "outputs": []
    },
    {
      "metadata": {
        "id": "rMtDVAWUKTSD",
        "colab_type": "text"
      },
      "cell_type": "markdown",
      "source": [
        "## Pergunta: Quais são os 5 generos com mais filmes?\n",
        "\n",
        "Dica:\n",
        "\n",
        "- `sort_values()` pode ordenar uma Series do pandas"
      ]
    },
    {
      "metadata": {
        "id": "vs03_SUDKTSE",
        "colab_type": "code",
        "colab": {}
      },
      "cell_type": "code",
      "source": [
        "# solução\n"
      ],
      "execution_count": 0,
      "outputs": []
    },
    {
      "metadata": {
        "id": "sKu9zQLNKTSJ",
        "colab_type": "code",
        "colab": {}
      },
      "cell_type": "code",
      "source": [
        "print(top5_generos_em_quantidade_de_filmes)"
      ],
      "execution_count": 0,
      "outputs": []
    },
    {
      "metadata": {
        "id": "gEe84IdNKTSN",
        "colab_type": "text"
      },
      "cell_type": "markdown",
      "source": [
        "## Pergunta: visualização de votos por genero\n",
        "\n",
        "- o código que gera os votos por genero já está pronto\n",
        "- ordene as categorias da mais visualizada para a menos visualizada\n",
        "- gere a visualização por genero"
      ]
    },
    {
      "metadata": {
        "id": "kqUzliCxKTSN",
        "colab_type": "code",
        "colab": {}
      },
      "cell_type": "code",
      "source": [
        "votos_por_genero_por_filme = pd.DataFrame((generos.values.T * filmes['total_de_votos'].values).T, columns = generos.columns)\n",
        "votos_por_genero_por_filme.head()"
      ],
      "execution_count": 0,
      "outputs": []
    },
    {
      "metadata": {
        "id": "S6u6WIUxKTSR",
        "colab_type": "code",
        "colab": {}
      },
      "cell_type": "code",
      "source": [
        "# solucão\n"
      ],
      "execution_count": 0,
      "outputs": []
    },
    {
      "metadata": {
        "id": "wGD5kmgEKTSV",
        "colab_type": "code",
        "colab": {}
      },
      "cell_type": "code",
      "source": [
        "# solução\n",
        "\n"
      ],
      "execution_count": 0,
      "outputs": []
    },
    {
      "metadata": {
        "id": "DmOU_uO7KTSY",
        "colab_type": "text"
      },
      "cell_type": "markdown",
      "source": [
        "## Pergunta : votos por filme por genero\n",
        "\n",
        "Queremos entender a quantidade de votos em relação a quantidade de filmes existentes naquele genero.\n",
        "\n",
        "Por exemplo: \n",
        "- se temos 1000 votos de `Ação` e 10 filmes desse genero, foram 100 votos por filme nesse genero.\n",
        "- se o gênero `Documentário` tem 2 filmes e 500 votos, ele tem 250 votos por filme nesse gênero.\n",
        "\n",
        "Queremos entender isso, a \"popularidade\" média de um filme em cada categoria, isto é, o número de votos dividido pelo número de filmes, organizado para cada categoria.\n",
        "\n",
        "- Você já possui o número de votos por genero\n",
        "- Calcule o número de votos por genero dividido pelo total de filmes por genero\n",
        "- Ordene do maior para o menor\n",
        "- Plote um gráfico para visualizarmos esses dados"
      ]
    },
    {
      "metadata": {
        "id": "kU7yfnAGKTSZ",
        "colab_type": "code",
        "colab": {}
      },
      "cell_type": "code",
      "source": [
        "# solucao código\n"
      ],
      "execution_count": 0,
      "outputs": []
    },
    {
      "metadata": {
        "id": "SHJtADzfKTSd",
        "colab_type": "code",
        "colab": {}
      },
      "cell_type": "code",
      "source": [
        "# solução com visualização \n"
      ],
      "execution_count": 0,
      "outputs": []
    },
    {
      "metadata": {
        "id": "LdtdHyqgKTSj",
        "colab_type": "text"
      },
      "cell_type": "markdown",
      "source": [
        "## Pergunta: Olhando as 3 últimas visualizações o que você conclui sobre os generos `Action` e `War`?"
      ]
    },
    {
      "metadata": {
        "id": "f5ezsoUCKTSm",
        "colab_type": "text"
      },
      "cell_type": "markdown",
      "source": [
        "### Solução (texto livre):\n",
        "    \n",
        "    "
      ]
    },
    {
      "metadata": {
        "id": "R2pLC2WeKTSo",
        "colab_type": "text"
      },
      "cell_type": "markdown",
      "source": [
        "## Pergunta: Crie 2 boxplots no mesmo plot comparando a coluna `total_de_votos` dos filmes de categoria `Horror` e `Adventure`  \n",
        "\n",
        "Dica:\n",
        "\n",
        "- as vezes é mais fácil usar o boxplot do matplotlib ao invés do seaborn\n",
        "- plt.boxplot suporta o parâmetro labels com uma lista de nomes para cada boxplot plotado"
      ]
    },
    {
      "metadata": {
        "id": "hpn0G8zUKTSq",
        "colab_type": "code",
        "colab": {}
      },
      "cell_type": "code",
      "source": [
        "# solução:\n",
        "\n"
      ],
      "execution_count": 0,
      "outputs": []
    },
    {
      "metadata": {
        "id": "Y6gUQoEuKTSw",
        "colab_type": "text"
      },
      "cell_type": "markdown",
      "source": [
        "## Pergunta: mostre agora um boxplot para cada uma das categorias\n",
        "\n",
        "Dica:\n",
        "- use generos.columns para acessar todos os gêneros\n",
        "- já removemos os hífens dos nomes das colunas quando criamos as colunas de gêneros\n",
        "- plt (pyplot) do matplotlib suporta a função xticks(rotation=90) para rotacionar os labels"
      ]
    },
    {
      "metadata": {
        "id": "BL47oDz-KTSx",
        "colab_type": "code",
        "colab": {}
      },
      "cell_type": "code",
      "source": [
        ""
      ],
      "execution_count": 0,
      "outputs": []
    },
    {
      "metadata": {
        "id": "e9AyX7S1KTS0",
        "colab_type": "text"
      },
      "cell_type": "markdown",
      "source": [
        "## Pergunta: desejo criar um filme com somente um dos gêneros: `Horror` ou `Adventure`. Quero ter uma chance maior de ter um faturamento que pague minhas contas, mesmo que não seja um super sucesso absurdo de vendas. Qual dos 2 gêneros você sugere?"
      ]
    },
    {
      "metadata": {
        "id": "UA7UFvxGKTS1",
        "colab_type": "text"
      },
      "cell_type": "markdown",
      "source": [
        "### Solução:\n",
        "    \n"
      ]
    },
    {
      "metadata": {
        "id": "DXfS00SCKTS2",
        "colab_type": "text"
      },
      "cell_type": "markdown",
      "source": [
        "## Pergunta: nossa análise foi até então visual. Aplique um teste estatístico para verificar se existe significância estatística na distribuição dos votos dos filmes de `Adventure` e `Horror`. Sua recomendação continua a mesma? Explique.\n",
        "\n",
        "Passos:\n",
        "\n",
        "- visualize a distribuição de ambas através de histogramas\n",
        "- se suspeitar normalidade na distribuição, faça um teste de normalidade para ambas\n",
        "- aplique um teste adequado de comparação das distribuições\n",
        "- explique o resultado encontrado\n",
        "- utilize p=0.05"
      ]
    },
    {
      "metadata": {
        "id": "L00W2H9FKTS3",
        "colab_type": "code",
        "colab": {}
      },
      "cell_type": "code",
      "source": [
        "# solucao histograma de aventura\n"
      ],
      "execution_count": 0,
      "outputs": []
    },
    {
      "metadata": {
        "id": "P-wT2QjLKTS6",
        "colab_type": "code",
        "colab": {}
      },
      "cell_type": "code",
      "source": [
        "# solucao histograma de horror\n"
      ],
      "execution_count": 0,
      "outputs": []
    },
    {
      "metadata": {
        "id": "gRr5Z1dMKTTC",
        "colab_type": "code",
        "colab": {}
      },
      "cell_type": "code",
      "source": [
        "# solucao teste de normalidade ou justificativa para nao utiliza-lo\n",
        "\n"
      ],
      "execution_count": 0,
      "outputs": []
    },
    {
      "metadata": {
        "id": "cOXXE5dsKTTH",
        "colab_type": "code",
        "colab": {}
      },
      "cell_type": "code",
      "source": [
        "# solução com o teste desejado\n"
      ],
      "execution_count": 0,
      "outputs": []
    },
    {
      "metadata": {
        "id": "ZR_P4PSJKTTN",
        "colab_type": "text"
      },
      "cell_type": "markdown",
      "source": [
        "### Solução (explique sua conclusão):\n",
        "\n"
      ]
    },
    {
      "metadata": {
        "id": "izwhie36KTTS",
        "colab_type": "text"
      },
      "cell_type": "markdown",
      "source": [
        "## Pergunta: Faça os mesmos boxplots para as notas médias (`nota_media`) dos gêneros `Adventure` e `Horror`."
      ]
    },
    {
      "metadata": {
        "id": "mq5ZSmmWKTTW",
        "colab_type": "code",
        "colab": {}
      },
      "cell_type": "code",
      "source": [
        "# solução:\n"
      ],
      "execution_count": 0,
      "outputs": []
    },
    {
      "metadata": {
        "id": "vbG_K18CKTTc",
        "colab_type": "code",
        "colab": {}
      },
      "cell_type": "code",
      "source": [
        ""
      ],
      "execution_count": 0,
      "outputs": []
    },
    {
      "metadata": {
        "id": "HixEkm4LKTTi",
        "colab_type": "text"
      },
      "cell_type": "markdown",
      "source": [
        "## Pergunta: Quero fazer um filme que seja sucesso de crítica, com pessoas dando notas altas, mesmo que não tenha um número muito grande de pessoas assistindo. Qual gênero você recomenda se tenho que escolher somente um entre `Adventure` e `Horror`?"
      ]
    },
    {
      "metadata": {
        "id": "w_LLjWVuKTTk",
        "colab_type": "text"
      },
      "cell_type": "markdown",
      "source": [
        "### Solução:\n",
        "\n"
      ]
    },
    {
      "metadata": {
        "id": "sU0dKII9KTTn",
        "colab_type": "text"
      },
      "cell_type": "markdown",
      "source": [
        "## Pergunta: nossa análise foi até então visual. Aplique um teste estatístico para verificar se existe significância estatística na distribuição das notas dos filmes de `Adventure` e `Horror`.\n",
        "\n",
        "Passos:\n",
        "\n",
        "- visualize a distribuição de ambas através de histogramas\n",
        "- se suspeitar normalidade na distribuição, faça um teste de normalidade para ambas\n",
        "- aplique um teste adequado de comparação das distribuições\n",
        "- explique o resultado encontrado\n",
        "- utilize p=0.05"
      ]
    },
    {
      "metadata": {
        "id": "_-P_DqrkKTTr",
        "colab_type": "code",
        "colab": {}
      },
      "cell_type": "code",
      "source": [
        "# solucao histograma de aventura\n"
      ],
      "execution_count": 0,
      "outputs": []
    },
    {
      "metadata": {
        "id": "LGCRS3cAKTTw",
        "colab_type": "code",
        "colab": {}
      },
      "cell_type": "code",
      "source": [
        "# solucao histograma de horror\n"
      ],
      "execution_count": 0,
      "outputs": []
    },
    {
      "metadata": {
        "id": "O-mzQKhTKTT0",
        "colab_type": "code",
        "colab": {}
      },
      "cell_type": "code",
      "source": [
        "# solucao teste de normalidade ou justificativa para nao utiliza-lo\n",
        "\n"
      ],
      "execution_count": 0,
      "outputs": []
    },
    {
      "metadata": {
        "id": "V8TEaQ69KTT6",
        "colab_type": "code",
        "colab": {}
      },
      "cell_type": "code",
      "source": [
        "# solução com o teste desejado\n"
      ],
      "execution_count": 0,
      "outputs": []
    },
    {
      "metadata": {
        "id": "ZadbawpeKTT9",
        "colab_type": "text"
      },
      "cell_type": "markdown",
      "source": [
        "## Sua recomendação para maior sucesso de crítica em nota alta entre `Horror` e `Adventure` continua a mesma? Explique.\n",
        "\n"
      ]
    },
    {
      "metadata": {
        "id": "21MRDBySKTT9",
        "colab_type": "text"
      },
      "cell_type": "markdown",
      "source": [
        "### Solução:\n"
      ]
    },
    {
      "metadata": {
        "id": "ZuhB9_9pKTT-",
        "colab_type": "text"
      },
      "cell_type": "markdown",
      "source": [
        "## Pergunta: Quero fazer um filme que seja primeiro sucesso de crítica, com pessoas dando notas altas. Em segundo lugar quero que seja popular (mais pessoas assistam). Com as informações visuais e estatísticas, supondo poder escolher somente um, qual dois 2 gêneros você recomenda agora? `Horror` ou `Adventure`?"
      ]
    },
    {
      "metadata": {
        "id": "xs-2USRDKTT_",
        "colab_type": "text"
      },
      "cell_type": "markdown",
      "source": [
        "### Solução:\n",
        "\n"
      ]
    },
    {
      "metadata": {
        "id": "Xhd86LtVKTUA",
        "colab_type": "text"
      },
      "cell_type": "markdown",
      "source": [
        "## Pergunta: Quais são os top 5 filmes dos 2 generos mais assistidas?\n",
        "\n",
        "- utilize os 2 generos mais votados em `votos_por_genero`\n",
        "- utilize a `nota_media` para definir o top 5 filmes\n",
        "- o resultado são 5, não 10 filmes"
      ]
    },
    {
      "metadata": {
        "id": "V1E1VDkRKTUA",
        "colab_type": "code",
        "colab": {}
      },
      "cell_type": "code",
      "source": [
        "votos_por_genero"
      ],
      "execution_count": 0,
      "outputs": []
    },
    {
      "metadata": {
        "id": "h7NY1R1iKTUG",
        "colab_type": "code",
        "colab": {}
      },
      "cell_type": "code",
      "source": [
        "# solução: calculando os 2 generos mais votados\n"
      ],
      "execution_count": 0,
      "outputs": []
    },
    {
      "metadata": {
        "id": "lsKprFzHKTUJ",
        "colab_type": "code",
        "colab": {}
      },
      "cell_type": "code",
      "source": [
        "# solução: encontrando os top 5 filmes desses generos\n"
      ],
      "execution_count": 0,
      "outputs": []
    },
    {
      "metadata": {
        "id": "IeBM8Q8JKTUN",
        "colab_type": "text"
      },
      "cell_type": "markdown",
      "source": [
        "## Pergunta: Quais são os 2 generos com maior valor de correlação com a `nota_media`? E os 2 com menor valor de correlação com a `nota_media`?\n",
        "\n",
        "- O pandas possui a função `corr` para calcular correlação entre todas as colunas"
      ]
    },
    {
      "metadata": {
        "id": "5F8OpXuXKTUO",
        "colab_type": "code",
        "colab": {}
      },
      "cell_type": "code",
      "source": [
        "# solucao\n"
      ],
      "execution_count": 0,
      "outputs": []
    },
    {
      "metadata": {
        "id": "39B4A4U7KTUW",
        "colab_type": "text"
      },
      "cell_type": "markdown",
      "source": [
        "## Pergunta: Quais são os 2 generos com maior correlação com `total_de_votos`? E quais os 2 com menor correlação com `total_de_votos`?"
      ]
    },
    {
      "metadata": {
        "id": "JkdnINlEKTUX",
        "colab_type": "code",
        "colab": {}
      },
      "cell_type": "code",
      "source": [
        "# solucao\n"
      ],
      "execution_count": 0,
      "outputs": []
    },
    {
      "metadata": {
        "id": "6V1LAAKWKTUb",
        "colab_type": "text"
      },
      "cell_type": "markdown",
      "source": [
        "## Pergunta: Visualize graficamente o relacionamento entre ano de lançamento e nota média\n",
        "\n",
        "- Use o gráfico `lineplot`"
      ]
    },
    {
      "metadata": {
        "id": "yCCkyL_BKTUc",
        "colab_type": "code",
        "colab": {}
      },
      "cell_type": "code",
      "source": [
        "# solucao\n"
      ],
      "execution_count": 0,
      "outputs": []
    },
    {
      "metadata": {
        "id": "eB-ofx13KTUg",
        "colab_type": "text"
      },
      "cell_type": "markdown",
      "source": [
        "## Pergunta: Interprete a correlação entre `ano_de_lancamento` e a `nota_media`?\n",
        "\n",
        "- Calcule a correlação numericamente (use o `corr` do pandas)\n",
        "- Correlação não implica causalidade, qual \"problema\" na coleta dos dados pode gerar esse tipo de correlação?"
      ]
    },
    {
      "metadata": {
        "id": "Rkz0WrJTKTUh",
        "colab_type": "code",
        "colab": {}
      },
      "cell_type": "code",
      "source": [
        "# solução (código)\n"
      ],
      "execution_count": 0,
      "outputs": []
    },
    {
      "metadata": {
        "id": "joWgnOgEKTUk",
        "colab_type": "text"
      },
      "cell_type": "markdown",
      "source": [
        "### Solução (explicação)\n",
        "\n"
      ]
    },
    {
      "metadata": {
        "id": "cdpG8qqlKTUk",
        "colab_type": "text"
      },
      "cell_type": "markdown",
      "source": [
        "## Pergunta: analise um pairplot\n",
        "\n",
        "- crie uma variável chamada `infos` baseada nas colunas `ano_de_lancamento`, `nota_media` e `total_de_votos` de `filmes`\n",
        "- faça o pairplot usando seaborn\n",
        "- coloque uma regressão linear para cada pequeno plot dentro dele"
      ]
    },
    {
      "metadata": {
        "id": "_u48JZyhKTUl",
        "colab_type": "code",
        "colab": {}
      },
      "cell_type": "code",
      "source": [
        "# solução\n"
      ],
      "execution_count": 0,
      "outputs": []
    },
    {
      "metadata": {
        "id": "I8Cl0BsaKTUp",
        "colab_type": "text"
      },
      "cell_type": "markdown",
      "source": [
        "## Pergunta: analise um pairplot dos filmes de `Animation`\n",
        "\n",
        "- use o dataframe `filmes`\n",
        "- em um único pairplot separe com cores distintas os filmes da categoria `Animation` dos outros\n",
        "- use uma palete como `husl`\n",
        "- use marcadores distintos para cada um dos dois grupos\n",
        "- faça o pairplot usando seaborn e coloque uma regressão linear para cada pequeno plot dentro dele\n",
        "- tanto em x quanto y use somente três variáveis: `total_de_votos`, `ano_de_lancamento`, `nota_media`"
      ]
    },
    {
      "metadata": {
        "id": "5RRe2iVTKTUr",
        "colab_type": "code",
        "colab": {}
      },
      "cell_type": "code",
      "source": [
        ""
      ],
      "execution_count": 0,
      "outputs": []
    },
    {
      "metadata": {
        "id": "UXyIJnTrKTUt",
        "colab_type": "text"
      },
      "cell_type": "markdown",
      "source": [
        "## Pergunta: Analise a regressão em relação ao ano de lançamento.\n",
        "\n",
        "- Como parece se comportar a `nota_media` de filmes de `Animation` mais antigos e mais recentes? (ano_de_lancamento x nota_media). Essa correlação parece ser baixa, mas parece ser linear?\n",
        "- E o `ano_de_lancamento` x `total_de_votos`?\n",
        "- E das outras categorias? Compare isso com os outros filmes.\n",
        "- O que leva você levantar como hipótese para esse resultado?"
      ]
    },
    {
      "metadata": {
        "id": "IXgD5yVSKTUu",
        "colab_type": "text"
      },
      "cell_type": "markdown",
      "source": [
        "### Solução:\n",
        "\n"
      ]
    },
    {
      "metadata": {
        "id": "SZsYwjfUKTUw",
        "colab_type": "text"
      },
      "cell_type": "markdown",
      "source": [
        "## Pergunta: Explore\n",
        "\n",
        "- compartilhe conosco 2 visualizações extras que julgar interessante\n",
        "- explique o que encontrou\n",
        "- use quantas células (texto ou código) julgar necessário"
      ]
    },
    {
      "metadata": {
        "id": "1OEH0UnvKTUx",
        "colab_type": "code",
        "colab": {}
      },
      "cell_type": "code",
      "source": [
        "# solução"
      ],
      "execution_count": 0,
      "outputs": []
    },
    {
      "metadata": {
        "id": "a343bHpuKTU3",
        "colab_type": "code",
        "colab": {}
      },
      "cell_type": "code",
      "source": [
        ""
      ],
      "execution_count": 0,
      "outputs": []
    }
  ]
}